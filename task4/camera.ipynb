{
 "cells": [
  {
   "cell_type": "code",
   "execution_count": 1,
   "metadata": {},
   "outputs": [],
   "source": [
    "# 标定流程如下图所示，\n",
    "# 首先要拍摄标定板的图像，拍摄数量一般在 10 张左右，\n",
    "# 要保证标定板完全出现在图片中，\n",
    "# 同时尽量选取多个角度拍摄，\n",
    "# 拍摄完成后，要寻找标定板的圆点位置\n",
    "# 如果是棋盘格，就是找棋盘格的角点也就是格子的 4 个角，\n",
    "# 然后将圆点在图像上的坐标和现实中的坐标相匹配，\n",
    "# 最后计算得到相机参数，完成标定。"
   ]
  },
  {
   "cell_type": "code",
   "execution_count": 2,
   "metadata": {},
   "outputs": [],
   "source": [
    "import cv2\n",
    "import numpy as np\n",
    "import glob\n",
    "import matplotlib.pyplot as plt\n",
    "import cvzone\n",
    "import os"
   ]
  },
  {
   "cell_type": "code",
   "execution_count": 3,
   "metadata": {},
   "outputs": [],
   "source": [
    "#求输入数据的归一化矩阵\n",
    "def normalizing_input_data(coor_data):\n",
    "    x_avg =np.mean(coor_data[:,0])\n",
    "    y_avg=np.mean(coor_data[:,1])\n",
    "    sx =np.sqrt(2)/ np.std(coor_data[:,0])\n",
    "    sy =np.sqrt(2)/ np.std(coor_data[:,1])\n",
    "    norm_matrix = np.matrix([[sx,0,-sx * x_avg],\n",
    "                             [0, sy, -sy * y_avg],\n",
    "                             [0,0,1]])\n",
    "    return norm_matrix"
   ]
  },
  {
   "cell_type": "code",
   "execution_count": 4,
   "metadata": {},
   "outputs": [],
   "source": [
    "#求单应矩阵H\n",
    "def get_H(pic_coor,real_coor):\n",
    "    #获得归一化矩阵\n",
    "    pic_norm_mat =normalizing_input_data(pic_coor)\n",
    "    real_norm_mat =normalizing_input_data(real_coor)\n",
    "    M=[]\n",
    "    for i in range(len(pic_coor)):\n",
    "        # 转换为齐次坐标\n",
    "        single_pic_coor = np.array([pic_coor[i][0],pic_coor[i][1],1])\n",
    "        single_real_coor = np.array([real_coor[i][0],real_coor[i][1],1])\n",
    "        # 坐标归一化\n",
    "        pic_norm = np.dot(pic_norm_mat, single_pic_coor)\n",
    "        real_norm=np.dot(real_norm_mat,single_real_coor)\n",
    "        # 构造M矩阵\n",
    "        M.append(np.array([-real_norm.item(0),-real_norm.item(1),-1,0,0,0,pic_norm.item(0) * real_norm.item(0),pic_norm.item(0) * real_norm.item(1),pic_norm.item(0)]))\n",
    "        M.append(np.array([0,0,0,\n",
    "        -real_norm.item(0), -real_norm.item(1),-1,\n",
    "        pic_norm.item(1) * real_norm.item(0),pic_norm.item(1) * real_norm.item(1) ,pic_norm.item(1)]))\n",
    "    #·利用SVD求解N*h =0中h的解\n",
    "    U,S,VT = np.linalg.svd((np .array(M, dtype='float')).reshape((-1,9)))\n",
    "    #最小的奇异值对应的奇异向量,S求出来按大小排列的，最后的最小\n",
    "    H=VT[-1].reshape((3,3))\n",
    "    H = np.dot(np.dot(np.linalg.inv(pic_norm_mat),H),real_norm_mat)\n",
    "    H/=H[-1,-1]\n",
    "    return H"
   ]
  },
  {
   "cell_type": "code",
   "execution_count": 5,
   "metadata": {},
   "outputs": [],
   "source": [
    "# 返回H,pic_coor为角点在图像上的坐标,real_coor为角点在现实中的坐标\n",
    "def get_Homography(pic_coor,real_coor):\n",
    "    refined_homographies = []\n",
    "    for i in range(len(pic_coor)):\n",
    "        H = get_H(pic_coor[i],real_coor[i]).reshape(-1,1)\n",
    "        refined_homographies.append(H)\n",
    "    return np.array(refined_homographies)"
   ]
  },
  {
   "cell_type": "code",
   "execution_count": 6,
   "metadata": {},
   "outputs": [],
   "source": [
    "# 返回pq位置对应的v向量\n",
    "def create_v(p,q,H):\n",
    "    H = H.reshape(3,3)\n",
    "    return np.array([\n",
    "        H[0][p]*H[0][q],\n",
    "        H[0][p]*H[1][q]+H[1][p]*H[0][q],\n",
    "        H[1][p]*H[1][q],\n",
    "        H[2][p]*H[0][q]+H[0][p]*H[2][q],\n",
    "        H[2][p]*H[1][q]+H[1][p]*H[2][q],\n",
    "        H[2][p]*H[2][q]\n",
    "    ])\n",
    "    "
   ]
  },
  {
   "cell_type": "code",
   "execution_count": 7,
   "metadata": {},
   "outputs": [],
   "source": [
    "# 返回相机内参矩阵A\n",
    "def get_intrinsic_param(H):\n",
    "    # 构建V矩阵\n",
    "    V = np.array([])\n",
    "    for i in range(len(H)):\n",
    "        V = np.append(V,np.array([create_v(0,1,H[i]),create_v(0,0,H[i])-create_v(1,1,H[i])]))\n",
    "    #利用SVD求解Vb=0中b的解\n",
    "    U,S,VT = np.linalg.svd((np.array(V,dtype='float')).reshape((-1,6)))\n",
    "    #最小的奇异值对应的奇异向量,S求出来按大小排列的，最后的最小\n",
    "    b = VT[-1]\n",
    "    #求出相机内参矩阵A\n",
    "    w = b[0]*b[2]*b[5]-b[1]*b[1]*b[5]-b[0]*b[4]*b[4]+2*b[1]*b[3]*b[4]-b[2]*b[3]*b[3]\n",
    "    d = b[0]*b[2]-b[1]*b[1]\n",
    "    print(b[0])\n",
    "    print(d)\n",
    "    alpha = np.sqrt(w/(d*b[0]))\n",
    "    beta = np.sqrt(w/(d*d)*b[0])\n",
    "    gamma = np.sqrt(w/(d*d)*b[0])\n",
    "    uc = (b[1]*b[4]-b[2]*b[3])/d\n",
    "    vc = (b[1]*b[3]-b[0]*b[4])/d\n",
    "    A = np.array([\n",
    "        [alpha,gamma,uc],\n",
    "        [0,beta,vc],\n",
    "        [0,0,1]\n",
    "    ])\n",
    "    return A\n",
    "\n",
    "    "
   ]
  },
  {
   "cell_type": "code",
   "execution_count": 8,
   "metadata": {},
   "outputs": [],
   "source": [
    "# 返回每一幅图的外参矩阵[R|t]\n",
    "def get_extrinsic_param(H,intrinsics_param):\n",
    "    extrinsic_param = []\n",
    "    inv_intrinsics_param = np.linalg.inv(intrinsics_param)\n",
    "    for i in range(len(H)):\n",
    "        h0 = (H[i].reshape(3,3))[:,0]\n",
    "        h1 = (H[i].reshape(3,3))[:,1]\n",
    "        h2 = (H[i].reshape(3,3))[:,2]\n",
    "        scale_factor = 1/np.linalg.norm(np.dot(inv_intrinsics_param,h0))\n",
    "        r0 = scale_factor * np.dot(inv_intrinsics_param,h0)\n",
    "        r1 = scale_factor * np.dot(inv_intrinsics_param,h1)\n",
    "        r2 = np.cross(r0,r1)\n",
    "        t = scale_factor * np.dot(inv_intrinsics_param,h2)\n",
    "\n",
    "        R = np.array([r0,r1,r2,t]).transpose()\n",
    "        extrinsic_param.append(R)\n",
    "    return np.array(extrinsic_param)\n",
    "\n"
   ]
  },
  {
   "cell_type": "code",
   "execution_count": 9,
   "metadata": {},
   "outputs": [],
   "source": [
    "file_dir = \"./img\"\n",
    "pic_name = os.listdir(file_dir)"
   ]
  },
  {
   "cell_type": "code",
   "execution_count": 10,
   "metadata": {},
   "outputs": [],
   "source": [
    "# 角点为7*7\n",
    "w = 7\n",
    "h = 7\n"
   ]
  },
  {
   "cell_type": "code",
   "execution_count": 11,
   "metadata": {},
   "outputs": [],
   "source": [
    "cross_corners = [w,h]\n",
    "real_coor = np.zeros((cross_corners[0]*cross_corners[1],2),np.float32)\n",
    "real_coor[:,:2] = np.mgrid[0:w,0:h].T.reshape(-1,2)\n",
    "real_points = []\n",
    "real_points_x_y = []\n",
    "pic_points = []\n"
   ]
  },
  {
   "cell_type": "code",
   "execution_count": 12,
   "metadata": {},
   "outputs": [],
   "source": [
    "for pic in pic_name:\n",
    "    # 读取照片\n",
    "    pic_path = os.path.join(file_dir,pic)\n",
    "    pic_data = cv2.imread(pic_path)\n",
    "    # 寻找棋盘角点，ret为是否找到角点，pic_coor为角点在图像上的坐标，54*1*2\n",
    "    ret,pic_coor = cv2.findCirclesGrid(pic_data,(cross_corners[0],cross_corners[1]),None)\n",
    "    if ret:\n",
    "        # 添加对应3D-2D坐标\n",
    "        pic_coor = pic_coor.reshape(-1,2)\n",
    "        pic_points.append(pic_coor)\n",
    "        real_points.append(real_coor)\n",
    "        real_points_x_y.append(real_coor[:,:2])\n"
   ]
  },
  {
   "cell_type": "code",
   "execution_count": 13,
   "metadata": {},
   "outputs": [],
   "source": [
    "# 求单应矩阵H\n",
    "H = get_Homography(pic_points,real_points)\n",
    "\n",
    "\n"
   ]
  },
  {
   "cell_type": "code",
   "execution_count": 14,
   "metadata": {},
   "outputs": [
    {
     "name": "stdout",
     "output_type": "stream",
     "text": [
      "1.974588332872603e-07\n",
      "3.880150344691412e-14\n"
     ]
    }
   ],
   "source": [
    "# 求相机内参矩阵A\n",
    "A = get_intrinsic_param(H)"
   ]
  },
  {
   "cell_type": "code",
   "execution_count": 15,
   "metadata": {},
   "outputs": [],
   "source": [
    "# 求外参矩阵[R|t]\n",
    "R_t = get_extrinsic_param(H,A)"
   ]
  },
  {
   "cell_type": "code",
   "execution_count": 16,
   "metadata": {},
   "outputs": [
    {
     "name": "stdout",
     "output_type": "stream",
     "text": [
      "相机内参矩阵A为：\n",
      " [[2.16098454e+03 2.16622692e+03 4.05752470e+02]\n",
      " [0.00000000e+00 2.16622692e+03 4.79795572e+02]\n",
      " [0.00000000e+00 0.00000000e+00 1.00000000e+00]]\n",
      "外参矩阵[R|t]为：\n",
      "\n",
      "[[ 9.76117180e-01 -8.55811295e-01 -1.91061059e-01 -8.32276781e-01]\n",
      " [-7.98332943e-02  9.25113970e-01 -2.23617673e-01 -4.71864364e+00]\n",
      " [ 2.02044292e-01  5.19465150e-02  8.34697404e-01  6.31824885e+01]]\n",
      "[[ 0.97463237 -0.83512084 -0.1937702  -0.34298995]\n",
      " [-0.09076814  0.9051215  -0.26319898 -5.45171027]\n",
      " [ 0.2045798   0.0947538   0.80635835 61.4269825 ]]\n",
      "[[ 0.98497428 -0.86927704 -0.15115062  3.1552853 ]\n",
      " [-0.06993941  0.92718957 -0.20405066 -5.19861749]\n",
      " [ 0.15790548  0.06780588  0.85246116 63.78989974]]\n",
      "[[ 0.9933829  -0.819453   -0.0710197   5.9303125 ]\n",
      " [-0.09161532  0.89547781 -0.15432331 -7.82774659]\n",
      " [ 0.06926079  0.09821726  0.81447789 60.92334428]]\n",
      "[[ 0.97893318 -0.8432197  -0.17518641 -0.3338121 ]\n",
      " [-0.08655968  0.90932308 -0.23543552 -3.56225855]\n",
      " [ 0.18492497  0.08121406  0.81717771 62.95051423]]\n",
      "[[ 9.96421972e-01 -8.51625390e-01 -4.73898020e-02  8.67006185e+00]\n",
      " [-7.31059619e-02  9.13961951e-01 -1.53702286e-01 -8.73339754e+00]\n",
      " [ 4.24119426e-02  1.18005426e-01  8.48432876e-01  6.21697295e+01]]\n",
      "[[ 0.90422192 -0.82511261 -0.37873685  0.22414275]\n",
      " [-0.11237709  0.89613653 -0.41653819 -5.24694641]\n",
      " [ 0.41201227  0.08469345  0.71758254 61.34337381]]\n",
      "[[ 0.82476233 -0.69794534 -0.46398503 -3.82287922]\n",
      " [-0.18018956  0.83183867 -0.45702695 -3.25173947]\n",
      " [ 0.53600264  0.10054582  0.56030674 49.87235855]]\n",
      "[[ 8.94166636e-01 -9.32890924e-01 -4.32582280e-01 -6.57772906e+00]\n",
      " [-3.91945581e-02  9.67186101e-01 -4.43512554e-01  1.80937116e+00]\n",
      " [ 4.46015485e-01  3.06752171e-02  8.28261295e-01  6.85201757e+01]]\n",
      "[[ 0.75488804 -0.69311159 -0.55511173 -2.88852224]\n",
      " [-0.18649453  0.84724095 -0.52641931 -1.43028813]\n",
      " [ 0.62877964  0.12002423  0.51031054 48.10771949]]\n",
      "[[ 9.96613165e-01 -8.68645309e-01 -5.50822119e-02  1.74144270e+00]\n",
      " [-6.33315820e-02  9.26726099e-01 -1.47420332e-01 -7.44098653e+00]\n",
      " [ 5.24529349e-02  1.02203483e-01  8.68574748e-01  6.59053117e+01]]\n"
     ]
    }
   ],
   "source": [
    "# 打印相机参数\n",
    "print(\"相机内参矩阵A为：\\n\",A)\n",
    "print(\"外参矩阵[R|t]为：\\n\")\n",
    "for item in R_t:\n",
    "    print(item)"
   ]
  }
 ],
 "metadata": {
  "kernelspec": {
   "display_name": "liuxiaolong",
   "language": "python",
   "name": "python3"
  },
  "language_info": {
   "codemirror_mode": {
    "name": "ipython",
    "version": 3
   },
   "file_extension": ".py",
   "mimetype": "text/x-python",
   "name": "python",
   "nbconvert_exporter": "python",
   "pygments_lexer": "ipython3",
   "version": "3.7.16"
  },
  "orig_nbformat": 4
 },
 "nbformat": 4,
 "nbformat_minor": 2
}
