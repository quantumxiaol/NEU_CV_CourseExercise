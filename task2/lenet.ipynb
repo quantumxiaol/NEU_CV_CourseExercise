{
 "cells": [
  {
   "cell_type": "code",
   "execution_count": 1,
   "metadata": {},
   "outputs": [
    {
     "name": "stderr",
     "output_type": "stream",
     "text": [
      "9913344B [00:04, 2236340.47B/s]                              \n",
      "29696B [00:00, ?B/s]                    \n",
      "1649664B [00:01, 989131.06B/s]                               \n",
      "5120B [00:00, ?B/s]                    \n",
      "[WARNING] ME(3700:34348,MainProcess):2023-06-20-09:47:33.747.233 [mindspore\\dataset\\core\\validator_helpers.py:806] 'Resize' from mindspore.dataset.vision.c_transforms is deprecated from version 1.8 and will be removed in a future version. Use 'Resize' from mindspore.dataset.vision instead.\n",
      "[WARNING] ME(3700:34348,MainProcess):2023-06-20-09:47:33.747.233 [mindspore\\dataset\\core\\validator_helpers.py:806] 'Rescale' from mindspore.dataset.vision.c_transforms is deprecated from version 1.8 and will be removed in a future version. Use 'Rescale' from mindspore.dataset.vision instead.\n",
      "[WARNING] ME(3700:34348,MainProcess):2023-06-20-09:47:33.748.291 [mindspore\\dataset\\core\\validator_helpers.py:806] 'Rescale' from mindspore.dataset.vision.c_transforms is deprecated from version 1.8 and will be removed in a future version. Use 'Rescale' from mindspore.dataset.vision instead.\n",
      "[WARNING] ME(3700:34348,MainProcess):2023-06-20-09:47:33.748.291 [mindspore\\dataset\\core\\validator_helpers.py:806] 'HWC2CHW' from mindspore.dataset.vision.c_transforms is deprecated from version 1.8 and will be removed in a future version. Use 'HWC2CHW' from mindspore.dataset.vision instead.\n",
      "[WARNING] ME(3700:34348,MainProcess):2023-06-20-09:47:33.749.334 [mindspore\\dataset\\core\\validator_helpers.py:806] 'Resize' from mindspore.dataset.vision.c_transforms is deprecated from version 1.8 and will be removed in a future version. Use 'Resize' from mindspore.dataset.vision instead.\n",
      "[WARNING] ME(3700:34348,MainProcess):2023-06-20-09:47:33.749.334 [mindspore\\dataset\\core\\validator_helpers.py:806] 'Rescale' from mindspore.dataset.vision.c_transforms is deprecated from version 1.8 and will be removed in a future version. Use 'Rescale' from mindspore.dataset.vision instead.\n",
      "[WARNING] ME(3700:34348,MainProcess):2023-06-20-09:47:33.750.307 [mindspore\\dataset\\core\\validator_helpers.py:806] 'Rescale' from mindspore.dataset.vision.c_transforms is deprecated from version 1.8 and will be removed in a future version. Use 'Rescale' from mindspore.dataset.vision instead.\n",
      "[WARNING] ME(3700:34348,MainProcess):2023-06-20-09:47:33.750.307 [mindspore\\dataset\\core\\validator_helpers.py:806] 'HWC2CHW' from mindspore.dataset.vision.c_transforms is deprecated from version 1.8 and will be removed in a future version. Use 'HWC2CHW' from mindspore.dataset.vision instead.\n"
     ]
    }
   ],
   "source": [
    "\n",
    "from mindvision.dataset import Mnist\n",
    "\n",
    "# 下载并处理MNIST数据集\n",
    "# #下载train数据集储存在./mnist路径下，并resize成32x32\n",
    "download_train = Mnist(path=\"./mnist\", split=\"train\", batch_size=32, repeat_num=1, shuffle=True, resize=32, download=True)\n",
    "#下载test数据集储存在./mnist路径下，并resize成32x32\n",
    "download_eval = Mnist(path=\"./mnist\", split=\"test\", batch_size=32, resize=32, download=True)\n",
    "\n",
    "dataset_train = download_train.run()\n",
    "dataset_eval = download_eval.run()"
   ]
  },
  {
   "cell_type": "code",
   "execution_count": 2,
   "metadata": {},
   "outputs": [],
   "source": [
    "# 参数说明：\n",
    "# \n",
    "# - path：数据集路径。\n",
    "# - split：数据集类型，支持train、 test、infer，默认为train。\n",
    "# - batch_size：每个训练批次设定的数据大小，默认为32。\n",
    "# - repeat_num：训练时遍历数据集的次数，默认为1。\n",
    "# - shuffle：是否需要将数据集随机打乱（可选参数）。\n",
    "# - resize：输出图像的图像大小，默认为32*32。\n",
    "# - download：是否需要下载数据集，默认为False。\n",
    "# \n",
    "# 下载的数据集文件的目录结构如下：\n",
    "# \n",
    "# ```text\n",
    "# ./mnist/\n",
    "# ├── test\n",
    "# │   ├── t10k-images-idx3-ubyte\n",
    "# │   └── t10k-labels-idx1-ubyte\n",
    "# └── train\n",
    "#     ├── train-images-idx3-ubyte\n",
    "#     └── train-labels-idx1-ubyte\n",
    "# ```"
   ]
  },
  {
   "cell_type": "code",
   "execution_count": 3,
   "metadata": {},
   "outputs": [],
   "source": [
    "from mindvision.classification.models import lenet\n",
    "#定义网络模型lenet，设置num_classes=10\n",
    "network = lenet(num_classes=10, pretrained=False)"
   ]
  },
  {
   "cell_type": "code",
   "execution_count": 4,
   "metadata": {},
   "outputs": [],
   "source": [
    "import mindspore.nn as nn\n",
    "\n",
    "# 定义损失函数SoftmaxCrossEntropyWithLogits\n",
    "net_loss = nn.SoftmaxCrossEntropyWithLogits(sparse=True, reduction='mean')\n",
    "\n",
    "# 定义优化器函数Momentum\n",
    "net_opt = nn.Momentum(network.trainable_params(), learning_rate=0.01, momentum=0.9)"
   ]
  },
  {
   "cell_type": "code",
   "execution_count": 5,
   "metadata": {},
   "outputs": [],
   "source": [
    "# ## 训练及保存模型\n",
    "#\n",
    "# 在开始训练之前，MindSpore需要提前声明网络模型在训练过程中是否需要保存中间过程和结果，因此使用`ModelCheckpoint`接口用于保存网络模型和参数，以便进行后续的Fine-tuning（微调）操作。\n"
   ]
  },
  {
   "cell_type": "code",
   "execution_count": 6,
   "metadata": {},
   "outputs": [],
   "source": [
    "from mindspore.train.callback import ModelCheckpoint, CheckpointConfig\n",
    "\n",
    "# 设置模型保存参数，模型训练保存参数的step为1875\n",
    "config_ck = CheckpointConfig(save_checkpoint_steps=1875, keep_checkpoint_max=10)\n",
    "\n",
    "# 应用模型保存参数\n",
    "ckpoint = ModelCheckpoint(prefix=\"lenet\", directory=\"./lenet\", config=config_ck)\n",
    "\n",
    "\n",
    "# 通过MindSpore提供的`model.train`接口可以方便地进行网络的训练，`LossMonitor`可以监控训练过程中`loss`值的变化。"
   ]
  },
  {
   "cell_type": "code",
   "execution_count": 7,
   "metadata": {},
   "outputs": [
    {
     "name": "stdout",
     "output_type": "stream",
     "text": [
      "Epoch:[  0/ 10], step:[ 1875/ 1875], loss:[0.150/1.416], time:9.845 ms, lr:0.01000\n",
      "Epoch time: 8764.657 ms, per step time: 4.674 ms, avg loss: 1.416\n",
      "Epoch:[  1/ 10], step:[ 1875/ 1875], loss:[0.233/0.085], time:8.838 ms, lr:0.01000\n",
      "Epoch time: 8349.122 ms, per step time: 4.453 ms, avg loss: 0.085\n",
      "Epoch:[  2/ 10], step:[ 1875/ 1875], loss:[0.009/0.052], time:9.361 ms, lr:0.01000\n",
      "Epoch time: 8034.552 ms, per step time: 4.285 ms, avg loss: 0.052\n",
      "Epoch:[  3/ 10], step:[ 1875/ 1875], loss:[0.017/0.040], time:8.915 ms, lr:0.01000\n",
      "Epoch time: 7680.315 ms, per step time: 4.096 ms, avg loss: 0.040\n",
      "Epoch:[  4/ 10], step:[ 1875/ 1875], loss:[0.040/0.031], time:8.816 ms, lr:0.01000\n",
      "Epoch time: 7952.378 ms, per step time: 4.241 ms, avg loss: 0.031\n",
      "Epoch:[  5/ 10], step:[ 1875/ 1875], loss:[0.107/0.025], time:9.837 ms, lr:0.01000\n",
      "Epoch time: 7745.095 ms, per step time: 4.131 ms, avg loss: 0.025\n",
      "Epoch:[  6/ 10], step:[ 1875/ 1875], loss:[0.000/0.022], time:8.869 ms, lr:0.01000\n",
      "Epoch time: 7485.904 ms, per step time: 3.992 ms, avg loss: 0.022\n",
      "Epoch:[  7/ 10], step:[ 1875/ 1875], loss:[0.002/0.018], time:10.858 ms, lr:0.01000\n",
      "Epoch time: 8999.297 ms, per step time: 4.800 ms, avg loss: 0.018\n",
      "Epoch:[  8/ 10], step:[ 1875/ 1875], loss:[0.006/0.016], time:11.442 ms, lr:0.01000\n",
      "Epoch time: 10362.212 ms, per step time: 5.527 ms, avg loss: 0.016\n",
      "Epoch:[  9/ 10], step:[ 1875/ 1875], loss:[0.000/0.014], time:10.359 ms, lr:0.01000\n",
      "Epoch time: 9465.893 ms, per step time: 5.048 ms, avg loss: 0.014\n"
     ]
    }
   ],
   "source": [
    "from mindvision.engine.callback import LossMonitor\n",
    "from mindspore.train import Model\n",
    "# 初始化模型参数\n",
    "model = Model(network, loss_fn=net_loss, optimizer=net_opt, metrics={'accuracy'})\n",
    "# 训练网络模型，并保存为lenet-1_1875.ckpt文件\n",
    "model.train(10, dataset_train, callbacks=[ckpoint, LossMonitor(0.01, 1875)])\n",
    "\n",
    "\n",
    "# 训练过程中会打印loss值，loss值会波动，但总体来说loss值会逐步减小，精度逐步提高。每个人运行的loss值有一定随机性，不一定完全相同。\n",
    "#\n",
    "# 通过模型运行测试数据集得到的结果，验证模型的泛化能力：\n",
    "#\n",
    "# 1. 使用`model.eval`接口读入测试数据集。\n",
    "# 2. 使用保存后的模型参数进行推理。"
   ]
  },
  {
   "cell_type": "code",
   "execution_count": 8,
   "metadata": {},
   "outputs": [
    {
     "name": "stdout",
     "output_type": "stream",
     "text": [
      "{'accuracy': 0.9899839743589743}\n"
     ]
    }
   ],
   "source": [
    "#使用`model.eval`接口读入测试数据集。\n",
    "acc = model.eval(dataset_eval)\n",
    "#accuracy打印输出\n",
    "print(\"{}\".format(acc))\n",
    "\n",
    "\n",
    "# 可以在打印信息中看出模型精度数据，示例中精度数据达到95%以上，模型质量良好。随着网络迭代次数增加，模型精度会进一步提高。\n",
    "#\n",
    "# ## 加载模型"
   ]
  },
  {
   "cell_type": "code",
   "execution_count": 9,
   "metadata": {},
   "outputs": [
    {
     "data": {
      "text/plain": [
       "[]"
      ]
     },
     "execution_count": 9,
     "metadata": {},
     "output_type": "execute_result"
    }
   ],
   "source": [
    "from mindspore import load_checkpoint, load_param_into_net\n",
    "\n",
    "# 加载已经保存的用于测试的模型\n",
    "param_dict = load_checkpoint(\"./lenet/lenet-1_1875.ckpt\")\n",
    "# 加载参数到网络中\n",
    "load_param_into_net(network, param_dict)\n",
    "\n",
    "\n",
    "# > 阅读更多有关[加载模型](https://www.mindspore.cn/tutorials/zh-CN/r1.7/beginner/save_load.html#加载模型)的信息。\n",
    "#\n"
   ]
  },
  {
   "cell_type": "code",
   "execution_count": 10,
   "metadata": {},
   "outputs": [
    {
     "name": "stderr",
     "output_type": "stream",
     "text": [
      "[WARNING] ME(3700:34348,MainProcess):2023-06-20-09:57:16.466.434 [mindspore\\dataset\\core\\validator_helpers.py:806] 'Resize' from mindspore.dataset.vision.c_transforms is deprecated from version 1.8 and will be removed in a future version. Use 'Resize' from mindspore.dataset.vision instead.\n",
      "[WARNING] ME(3700:34348,MainProcess):2023-06-20-09:57:16.466.434 [mindspore\\dataset\\core\\validator_helpers.py:806] 'Rescale' from mindspore.dataset.vision.c_transforms is deprecated from version 1.8 and will be removed in a future version. Use 'Rescale' from mindspore.dataset.vision instead.\n",
      "[WARNING] ME(3700:34348,MainProcess):2023-06-20-09:57:16.467.419 [mindspore\\dataset\\core\\validator_helpers.py:806] 'Rescale' from mindspore.dataset.vision.c_transforms is deprecated from version 1.8 and will be removed in a future version. Use 'Rescale' from mindspore.dataset.vision instead.\n",
      "[WARNING] ME(3700:34348,MainProcess):2023-06-20-09:57:16.467.419 [mindspore\\dataset\\core\\validator_helpers.py:806] 'HWC2CHW' from mindspore.dataset.vision.c_transforms is deprecated from version 1.8 and will be removed in a future version. Use 'HWC2CHW' from mindspore.dataset.vision instead.\n"
     ]
    },
    {
     "data": {
      "image/png": "[encoded data removed]",
      "text/plain": [
       "<Figure size 640x480 with 6 Axes>"
      ]
     },
     "metadata": {},
     "output_type": "display_data"
    },
    {
     "name": "stdout",
     "output_type": "stream",
     "text": [
      "Predicted: \"[6 3 3 6 8 2]\", Actual: \"[6 3 3 6 8 2]\"\n"
     ]
    }
   ],
   "source": [
    "# ## 验证模型\n",
    "#\n",
    "# 我们使用生成的模型进行单个图片数据的分类预测，具体步骤如下：\n",
    "#\n",
    "# > - 被预测的图片会随机生成，每次运行结果可能会不一样。\n",
    "# > - 代码使用了Tensor模块，阅读更多有关[张量Tensor](https://www.mindspore.cn/tutorials/zh-CN/r1.7/beginner/tensor.html)的信息。\n",
    "\n",
    "import numpy as np\n",
    "from mindspore import Tensor\n",
    "import matplotlib.pyplot as plt\n",
    "\n",
    "mnist = Mnist(\"./mnist\", split=\"train\", batch_size=6, resize=32)\n",
    "dataset_infer = mnist.run()\n",
    "ds_test = dataset_infer.create_dict_iterator()\n",
    "data = next(ds_test)\n",
    "images = data[\"image\"].asnumpy()\n",
    "labels = data[\"label\"].asnumpy()\n",
    "\n",
    "#图片输出\n",
    "plt.figure()\n",
    "for i in range(1, 7):\n",
    "    plt.subplot(2, 3, i)\n",
    "    plt.imshow(images[i-1][0], interpolation=\"None\", cmap=\"gray\")\n",
    "plt.show()\n",
    "\n",
    "# 使用函数model.predict预测image对应分类\n",
    "output = model.predict(Tensor(data['image']))\n",
    "predicted = np.argmax(output.asnumpy(), axis=1)\n",
    "\n",
    "# 输出预测分类与实际分类\n",
    "print(f'Predicted: \"{predicted}\", Actual: \"{labels}\"')\n",
    "\n",
    "\n",
    "# 从上面的打印结果可以看出，预测值与目标值完全一致。Z\n"
   ]
  }
 ],
 "metadata": {
  "kernelspec": {
   "display_name": "liuxiaolong",
   "language": "python",
   "name": "python3"
  },
  "language_info": {
   "codemirror_mode": {
    "name": "ipython",
    "version": 3
   },
   "file_extension": ".py",
   "mimetype": "text/x-python",
   "name": "python",
   "nbconvert_exporter": "python",
   "pygments_lexer": "ipython3",
   "version": "3.7.16"
  },
  "orig_nbformat": 4
 },
 "nbformat": 4,
 "nbformat_minor": 2
}
